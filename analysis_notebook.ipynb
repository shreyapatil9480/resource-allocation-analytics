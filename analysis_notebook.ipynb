{
 "cells": [
  {
   "cell_type": "markdown",
   "id": "b9432abc",
   "metadata": {},
   "source": [
    "# Project Resource Allocation Analytics\n",
    "\n",
    "This Jupyter notebook provides an end-to-end analysis of a synthetic project-resource dataset. The dataset simulates tasks associated with different projects, departments and phases within an organization. It includes start and due dates, budget allocations, estimated and actual effort, complexity, risk levels and whether the task was completed on time.\n",
    "\n",
    "In this notebook we will:\n",
    "\n",
    "* Perform exploratory data analysis (EDA) with summary statistics and visualizations.\n",
    "* Visualize task distributions and correlations between numerical features.\n",
    "* Build a classification model to predict whether a task will experience a delay beyond its due date.\n",
    "* Build a regression model to predict the actual effort hours needed for a task.\n",
    "\n"
   ]
  },
  {
   "cell_type": "code",
   "execution_count": null,
   "id": "f70a8ada",
   "metadata": {},
   "outputs": [],
   "source": [
    "import pandas as pd\n",
    "import numpy as np\n",
    "import matplotlib.pyplot as plt\n",
    "import seaborn as sns\n",
    "from sklearn.model_selection import train_test_split\n",
    "from sklearn.preprocessing import OneHotEncoder\n",
    "from sklearn.compose import ColumnTransformer\n",
    "from sklearn.pipeline import Pipeline\n",
    "from sklearn.metrics import classification_report, confusion_matrix, mean_squared_error\n",
    "from sklearn.linear_model import LogisticRegression, LinearRegression\n",
    "\n",
    "# Load the dataset\n",
    "df = pd.read_csv('resource_allocation_dataset.csv')\n",
    "\n",
    "# Preview the data\n",
    "df.head()"
   ]
  },
  {
   "cell_type": "markdown",
   "id": "ef61a278",
   "metadata": {},
   "source": [
    "## Exploratory Data Analysis\n",
    "\n",
    "We begin by exploring the distribution of numerical features and visualizing the relationships between them. The dataset includes categories such as project phase, department, risk level and task type that will be encoded later for modeling.\n",
    "\n"
   ]
  },
  {
   "cell_type": "code",
   "execution_count": null,
   "id": "8e310be4",
   "metadata": {},
   "outputs": [],
   "source": [
    "# Convert date columns to datetime\n",
    "for col in ['start_date', 'due_date', 'finish_date']:\n",
    "    df[col] = pd.to_datetime(df[col])\n",
    "\n",
    "# Summary statistics for numerical features\n",
    "print(df[['estimated_effort_hours','actual_effort_hours','budget_allocated','budget_used','complexity','satisfaction_rating','delay_days']].describe())\n",
    "\n",
    "# Histogram of complexity\n",
    "plt.figure(figsize=(6,4))\n",
    "sns.countplot(x='complexity', data=df)\n",
    "plt.title('Task Complexity Distribution')\n",
    "plt.show()\n",
    "\n",
    "# Correlation heatmap\n",
    "plt.figure(figsize=(8,6))\n",
    "numeric_features = ['estimated_effort_hours','actual_effort_hours','budget_allocated','budget_used','complexity','satisfaction_rating','delay_days']\n",
    "corr = df[numeric_features].corr()\n",
    "sns.heatmap(corr, annot=True, cmap='coolwarm')\n",
    "plt.title('Correlation Matrix')\n",
    "plt.show()"
   ]
  },
  {
   "cell_type": "markdown",
   "id": "dc7d3ec0",
   "metadata": {},
   "source": [
    "## Classification: Predicting Task Delays\n",
    "\n",
    "We will model whether a task will be delayed beyond its due date (`delay_days > 0`). A delay greater than zero means the finish date was after the due date. We'll use a simple logistic regression model with categorical features encoded via one-hot encoding.\n"
   ]
  },
  {
   "cell_type": "code",
   "execution_count": null,
   "id": "6096dea5",
   "metadata": {},
   "outputs": [],
   "source": [
    "# Create binary target for delay\n",
    "df['delayed'] = (df['delay_days'] > 0).astype(int)\n",
    "\n",
    "# Features and target\n",
    "X = df[['task_type','phase','department','complexity','risk_level','estimated_effort_hours','budget_allocated','satisfaction_rating']]\n",
    "y = df['delayed']\n",
    "\n",
    "# Identify categorical and numeric columns\n",
    "cat_cols = ['task_type','phase','department','risk_level']\n",
    "num_cols = ['complexity','estimated_effort_hours','budget_allocated','satisfaction_rating']\n",
    "\n",
    "# Preprocess: one-hot encode categorical features\n",
    "preprocessor = ColumnTransformer(transformers=[('cat', OneHotEncoder(drop='first'), cat_cols)], remainder='passthrough')\n",
    "\n",
    "# Split the data\n",
    "X_train, X_test, y_train, y_test = train_test_split(X, y, test_size=0.2, random_state=42)\n",
    "\n",
    "# Define model\n",
    "clf = LogisticRegression(max_iter=200)\n",
    "\n",
    "# Create pipeline\n",
    "pipe = Pipeline(steps=[('preprocessor', preprocessor), ('model', clf)])\n",
    "\n",
    "# Fit model\n",
    "pipe.fit(X_train, y_train)\n",
    "\n",
    "# Predict and evaluate\n",
    "y_pred = pipe.predict(X_test)\n",
    "print('Classification Report:\n",
    "', classification_report(y_test, y_pred))\n",
    "print('Confusion Matrix:\n",
    "', confusion_matrix(y_test, y_pred))"
   ]
  },
  {
   "cell_type": "markdown",
   "id": "b4303c88",
   "metadata": {},
   "source": [
    "## Regression: Predicting Actual Effort Hours\n",
    "\n",
    "Here we predict the actual effort hours required for a task using linear regression. Again we encode categorical variables and use a simple linear model for illustrative purposes.\n"
   ]
  },
  {
   "cell_type": "code",
   "execution_count": null,
   "id": "609f322c",
   "metadata": {},
   "outputs": [],
   "source": [
    "# Features and target for regression\n",
    "X_reg = df[['task_type','phase','department','complexity','risk_level','estimated_effort_hours','budget_allocated','satisfaction_rating']]\n",
    "y_reg = df['actual_effort_hours']\n",
    "\n",
    "# Split the data\n",
    "X_train_r, X_test_r, y_train_r, y_test_r = train_test_split(X_reg, y_reg, test_size=0.2, random_state=42)\n",
    "\n",
    "# Preprocess and model\n",
    "preprocessor_r = ColumnTransformer(transformers=[('cat', OneHotEncoder(drop='first'), cat_cols)], remainder='passthrough')\n",
    "model_r = LinearRegression()\n",
    "pipe_r = Pipeline(steps=[('preprocessor', preprocessor_r), ('model', model_r)])\n",
    "\n",
    "# Fit model\n",
    "pipe_r.fit(X_train_r, y_train_r)\n",
    "\n",
    "# Predict\n",
    "y_pred_r = pipe_r.predict(X_test_r)\n",
    "\n",
    "# Evaluate with RMSE\n",
    "rmse = mean_squared_error(y_test_r, y_pred_r, squared=False)\n",
    "print('Root Mean Squared Error:', rmse)"
   ]
  },
  {
   "cell_type": "markdown",
   "id": "73f74050",
   "metadata": {},
   "source": [
    "## Conclusion\n",
    "\n",
    "This synthetic project resource dataset illustrates how basic analytics and machine learning can inform project management decisions. From simple visualizations we discovered relationships between budget, effort and complexity. A logistic regression model helped identify factors that contribute to delays, while a linear regression provided a baseline prediction of actual effort hours based on early indicators.\n",
    "\n",
    "Further improvements might include more sophisticated models (e.g., random forests or gradient boosting), cross-validation for better generalization, and domain-specific feature engineering.\n"
   ]
  }
 ],
 "metadata": {},
 "nbformat": 4,
 "nbformat_minor": 5
}
